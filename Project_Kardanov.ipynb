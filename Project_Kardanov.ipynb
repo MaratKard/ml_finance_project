{
 "cells": [
  {
   "cell_type": "markdown",
   "id": "80e8f8b5",
   "metadata": {},
   "source": [
    "# Итоговый проект по курсу \"ML для финансового анализа\""
   ]
  },
  {
   "cell_type": "markdown",
   "id": "2f912314",
   "metadata": {},
   "source": [
    "*Автор - Карданов М. Т.*"
   ]
  },
  {
   "cell_type": "markdown",
   "id": "d2a26411",
   "metadata": {},
   "source": [
    "## Задача проекта:"
   ]
  },
  {
   "cell_type": "markdown",
   "id": "52170403",
   "metadata": {},
   "source": [
    "Разработать торгового робота, представляющего из себя ансамбль моделей технического анализа и машинного обучения, анализирующего данные о стоимости акций компании Google за последний год и формулирующего торговые действия."
   ]
  },
  {
   "cell_type": "markdown",
   "id": "e27de1f0",
   "metadata": {},
   "source": [
    "## План проекта:"
   ]
  },
  {
   "cell_type": "markdown",
   "id": "e705d0b6",
   "metadata": {},
   "source": [
    "1. Загрузка данных;\n",
    "1. Feature engineering;\n",
    "1. Построение модели технического анализа;\n",
    "1. Построение модели машинного обучения;\n",
    "1. Обучение ансамбля;\n",
    "1. Проверка качества ансамбля на тестовой выборке;\n",
    "1. Составление презентации, защита."
   ]
  },
  {
   "cell_type": "markdown",
   "id": "288a07c2",
   "metadata": {},
   "source": [
    "## 0: Импорты"
   ]
  },
  {
   "cell_type": "code",
   "execution_count": 51,
   "id": "5e9a4f6d",
   "metadata": {},
   "outputs": [],
   "source": [
    "import pandas as pd\n",
    "import sklearn\n",
    "import numpy as np\n",
    "import yfinance\n",
    "import os\n",
    "import warnings"
   ]
  },
  {
   "cell_type": "markdown",
   "id": "5feb76fa",
   "metadata": {},
   "source": [
    "## 1: Загрузка данных"
   ]
  },
  {
   "cell_type": "code",
   "execution_count": 52,
   "id": "29434a6f",
   "metadata": {},
   "outputs": [],
   "source": [
    "def load_data() -> pd.DataFrame:\n",
    "\n",
    "    data = yfinance.download(tickers=\"GOOG\", \n",
    "                             period=\"5y\", \n",
    "                             interval=\"1d\", \n",
    "                             multi_level_index=False)\n",
    "    data.index = pd.to_datetime(data.index)\n",
    "\n",
    "    return data"
   ]
  },
  {
   "cell_type": "markdown",
   "id": "de037261",
   "metadata": {},
   "source": [
    "## 2: Feature-engineering"
   ]
  },
  {
   "cell_type": "code",
   "execution_count": 53,
   "id": "b93974a9",
   "metadata": {},
   "outputs": [],
   "source": [
    "def add_date_features(data: pd.DataFrame) -> pd.DataFrame:\n",
    "\n",
    "    data[\"Date_time\"] = data.index\n",
    "\n",
    "    data['Year']=data['Date_time'].dt.strftime('%Y')\n",
    "    data['Month']=data['Date_time'].dt.strftime('%m')\n",
    "    data['Day']=data['Date_time'].dt.strftime('%d')\n",
    "\n",
    "    data = data.drop(\"Date_time\", axis=1)\n",
    "\n",
    "    return data"
   ]
  },
  {
   "cell_type": "markdown",
   "id": "5624f361",
   "metadata": {},
   "source": [
    "В качестве признаков технического анализа я решил выбрать 5-ти, 10-ти и 20-барные MA и EMA, в основном из-за того, что они просты в реализации и, одновременно с этим, несут в себе много информации о более долгосрочном поведении цены."
   ]
  },
  {
   "cell_type": "code",
   "execution_count": 54,
   "id": "d2a814b7",
   "metadata": {},
   "outputs": [],
   "source": [
    "def add_price_features(data: pd.DataFrame) -> pd.DataFrame:\n",
    "\n",
    "    data[\"5_day_MA\"] = data[\"Close\"].rolling(window=5, min_periods=1).mean()\n",
    "    data[\"10_day_MA\"] = data[\"Close\"].rolling(window=10, min_periods=1).mean()\n",
    "    data[\"20_day_MA\"] = data[\"Close\"].rolling(window=20, min_periods=1).mean()\n",
    "\n",
    "    data[\"5_day_EMA\"] = data[\"Close\"].ewm(span=5, min_periods=1).mean()\n",
    "    data[\"10_day_EMA\"] = data[\"Close\"].ewm(span=10, min_periods=1).mean()\n",
    "    data[\"20_day_EMA\"] = data[\"Close\"].ewm(span=20, min_periods=1).mean()\n",
    "\n",
    "    return data"
   ]
  },
  {
   "cell_type": "code",
   "execution_count": 55,
   "id": "b9e9394d",
   "metadata": {},
   "outputs": [],
   "source": [
    "def save_data(data: pd.DataFrame, filename: str = \"data/processed_data.csv\") -> None:\n",
    "\n",
    "    if os.path.exists(filename):\n",
    "        data.to_csv(filename, mode='a', header=False, index=False)\n",
    "    else:\n",
    "        data.to_csv(filename, mode='w', header=True, index=False)"
   ]
  },
  {
   "cell_type": "code",
   "execution_count": 56,
   "id": "bf55da46",
   "metadata": {},
   "outputs": [],
   "source": [
    "def temp_load():\n",
    "    data = load_data()\n",
    "    data = add_date_features(data)\n",
    "    data = add_price_features(data)\n",
    "    save_data(data)"
   ]
  },
  {
   "cell_type": "code",
   "execution_count": 57,
   "id": "6855f3d7",
   "metadata": {},
   "outputs": [
    {
     "name": "stderr",
     "output_type": "stream",
     "text": [
      "[*********************100%***********************]  1 of 1 completed\n"
     ]
    }
   ],
   "source": [
    "with warnings.catch_warnings():\n",
    "    warnings.simplefilter(action=\"ignore\")\n",
    "    temp_load()"
   ]
  }
 ],
 "metadata": {
  "kernelspec": {
   "display_name": ".project_venv",
   "language": "python",
   "name": "python3"
  },
  "language_info": {
   "codemirror_mode": {
    "name": "ipython",
    "version": 3
   },
   "file_extension": ".py",
   "mimetype": "text/x-python",
   "name": "python",
   "nbconvert_exporter": "python",
   "pygments_lexer": "ipython3",
   "version": "3.10.11"
  }
 },
 "nbformat": 4,
 "nbformat_minor": 5
}
