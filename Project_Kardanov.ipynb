{
 "cells": [
  {
   "cell_type": "markdown",
   "id": "80e8f8b5",
   "metadata": {},
   "source": [
    "# Итоговый проект по курсу \"ML для финансового анализа\""
   ]
  },
  {
   "cell_type": "markdown",
   "id": "2f912314",
   "metadata": {},
   "source": [
    "*Автор - Карданов М. Т.*"
   ]
  },
  {
   "cell_type": "markdown",
   "id": "d2a26411",
   "metadata": {},
   "source": [
    "## Задача проекта:"
   ]
  },
  {
   "cell_type": "markdown",
   "id": "52170403",
   "metadata": {},
   "source": [
    "Разработать торгового робота, представляющего из себя ансамбль моделей технического анализа и машинного обучения, анализирующего данные о стоимости акций компании Google за последний год и формулирующего торговые действия."
   ]
  },
  {
   "cell_type": "markdown",
   "id": "e27de1f0",
   "metadata": {},
   "source": [
    "## План проекта:"
   ]
  },
  {
   "cell_type": "markdown",
   "id": "e705d0b6",
   "metadata": {},
   "source": [
    "1. Загрузка данных;\n",
    "2. Feature engineering;\n",
    "3. Построение модели технического анализа;\n",
    "4. Построение модели машинного обучения;\n",
    "5. Обучение ансамбля;\n",
    "6. Проверка качества ансамбля на тестовой выборке;\n",
    "7. Составление презентации, защита."
   ]
  }
 ],
 "metadata": {
  "kernelspec": {
   "display_name": ".ml_finance_project_venv",
   "language": "python",
   "name": "python3"
  },
  "language_info": {
   "name": "python",
   "version": "3.10.11"
  }
 },
 "nbformat": 4,
 "nbformat_minor": 5
}
